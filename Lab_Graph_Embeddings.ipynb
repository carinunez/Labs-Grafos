{
  "nbformat": 4,
  "nbformat_minor": 0,
  "metadata": {
    "colab": {
      "provenance": [],
      "include_colab_link": true
    },
    "kernelspec": {
      "name": "python3",
      "display_name": "Python 3"
    },
    "language_info": {
      "name": "python"
    }
  },
  "cells": [
    {
      "cell_type": "markdown",
      "metadata": {
        "id": "view-in-github",
        "colab_type": "text"
      },
      "source": [
        "<a href=\"https://colab.research.google.com/github/carinunez/Labs-Grafos/blob/main/Lab_Graph_Embeddings.ipynb\" target=\"_parent\"><img src=\"https://colab.research.google.com/assets/colab-badge.svg\" alt=\"Open In Colab\"/></a>"
      ]
    },
    {
      "cell_type": "markdown",
      "source": [
        "# Laboratorio Graph Embeddings\n",
        "\n",
        "En este laboratorio crearemos un grafo sintético y entrenaremos una GNN para predecir etiquetas.\n",
        "\n",
        "Estas primeras celdas le permitirán verificar las versiones del software disponible en Colab e instalar las librerías faltantes."
      ],
      "metadata": {
        "id": "GFhaAA0ssMS_"
      }
    },
    {
      "cell_type": "code",
      "source": [
        "!python -c \"import torch; print(torch.version.cuda)\""
      ],
      "metadata": {
        "id": "0v5-syWgrOxp"
      },
      "execution_count": null,
      "outputs": []
    },
    {
      "cell_type": "code",
      "source": [
        "!python -c \"import torch; print(torch.__version__)\""
      ],
      "metadata": {
        "id": "Pmedmh2lro68"
      },
      "execution_count": null,
      "outputs": []
    },
    {
      "cell_type": "code",
      "source": [
        "!pip install torch-scatter -f https://data.pyg.org/whl/torch-2.6.0+cu124.html"
      ],
      "metadata": {
        "id": "6xBH45uJru_l"
      },
      "execution_count": null,
      "outputs": []
    },
    {
      "cell_type": "code",
      "source": [
        "!pip install torch-sparse -f https://data.pyg.org/whl/torch-2.6.0+cu124.html"
      ],
      "metadata": {
        "id": "C8DXQCR6rsKv"
      },
      "execution_count": null,
      "outputs": []
    },
    {
      "cell_type": "code",
      "source": [
        "!pip install torch-geometric"
      ],
      "metadata": {
        "id": "O3s1T6YOr7Bb"
      },
      "execution_count": null,
      "outputs": []
    },
    {
      "cell_type": "code",
      "execution_count": null,
      "metadata": {
        "id": "p7YIoZUsqSmv"
      },
      "outputs": [],
      "source": [
        "import torch\n",
        "import torch.nn.functional as F\n",
        "from torch_geometric.data import Data\n",
        "from torch_geometric.nn import GCNConv\n",
        "import networkx as nx\n",
        "import random\n",
        "import numpy as np\n",
        "from sklearn.cluster import KMeans"
      ]
    },
    {
      "cell_type": "code",
      "source": [
        "# 1. Crear distintos tipos de grafo y asignar etiquetas\n",
        "def spectral_labels(G, k=3):\n",
        "    lap = nx.normalized_laplacian_matrix(G).todense()\n",
        "    eigvecs = np.linalg.eigh(lap)[1][:, 1:k+1]\n",
        "    return KMeans(n_clusters=k, random_state=42).fit_predict(eigvecs)\n",
        "\n",
        "def generate_graph(graph_type='sbm', num_nodes=150):\n",
        "    if graph_type == 'sbm':\n",
        "        sizes = [num_nodes // 3] * 3\n",
        "        probs = [[0.3, 0.05, 0.02], [0.05, 0.3, 0.04], [0.02, 0.04, 0.3]]\n",
        "        G = nx.stochastic_block_model(sizes, probs, seed=42)\n",
        "        labels = [i for i, size in enumerate(sizes) for _ in range(size)]\n",
        "    elif graph_type == 'erdos':\n",
        "        G = nx.erdos_renyi_graph(num_nodes, 0.05, seed=42)\n",
        "        labels = spectral_labels(G)\n",
        "    elif graph_type == 'barabasi':\n",
        "        G = nx.barabasi_albert_graph(num_nodes, 2, seed=42)\n",
        "        labels = spectral_labels(G)\n",
        "    else:\n",
        "        raise ValueError(\"Unknown graph type\")\n",
        "\n",
        "    G = max((G.subgraph(c) for c in nx.connected_components(G)), key=len)\n",
        "    edge_index = torch.tensor(list(G.edges), dtype=torch.long).t().contiguous()\n",
        "    features = torch.eye(G.number_of_nodes())\n",
        "    labels = torch.tensor(labels[:G.number_of_nodes()], dtype=torch.long)\n",
        "    return G, features, labels, edge_index"
      ],
      "metadata": {
        "id": "tFtJDQ-pqZDP"
      },
      "execution_count": null,
      "outputs": []
    },
    {
      "cell_type": "code",
      "source": [
        "# 2. GCN\n",
        "class GCN(torch.nn.Module):\n",
        "    def __init__(self, in_channels, hidden_channels, out_channels, num_layers=2):\n",
        "        super().__init__()\n",
        "        self.convs = torch.nn.ModuleList()\n",
        "        self.convs.append(\"PRIMERA CAPA\")\n",
        "        for _ in range(num_layers - 2):\n",
        "            self.convs.append(\"SIGUIENTES CAPAS\")\n",
        "        self.convs.append(GCNConv(hidden_channels, out_channels))\n",
        "\n",
        "    def forward(self, x, edge_index):\n",
        "        for conv in self.convs[:-1]:\n",
        "            x = \"ACTIVACION(APLICAR CAPA(...))\"\n",
        "        return self.convs[-1](x, edge_index)"
      ],
      "metadata": {
        "id": "JmbSi-o0qqKw"
      },
      "execution_count": null,
      "outputs": []
    },
    {
      "cell_type": "code",
      "source": [
        "# 3. entrenamiento y test\n",
        "def train(model, data, loss_fn):\n",
        "    optimizer = torch.optim.Adam(model.parameters(), lr=0.01)\n",
        "    model.train()\n",
        "    for epoch in range(101):\n",
        "        out = model(data.x, data.edge_index)\n",
        "        loss = loss_fn(out[data.train_mask], data.y[data.train_mask])\n",
        "        optimizer.zero_grad(); loss.backward(); optimizer.step()\n",
        "        if epoch % 20 == 0:\n",
        "            print(f\"Epoch {epoch} | Loss: {loss.item():.4f}\")\n",
        "\n",
        "def test(model, data):\n",
        "    model.eval()\n",
        "    out = model(data.x, data.edge_index)\n",
        "    pred = out.argmax(dim=1)\n",
        "    acc = int((pred[data.test_mask] == data.y[data.test_mask]).sum()) / int(data.test_mask.sum())\n",
        "    print(f\"Test Accuracy: {acc:.4f}\")\n"
      ],
      "metadata": {
        "id": "6oL3qu3mq0qn"
      },
      "execution_count": null,
      "outputs": []
    },
    {
      "cell_type": "code",
      "source": [
        "# 4. Ejemplo de ejecución\n",
        "# Elegir tipo de grafo: 'sbm', 'erdos', 'barabasi'\n",
        "G, X, Y, E = generate_graph('barabasi')\n",
        "n = X.size(0)\n",
        "train_mask = torch.zeros(n, dtype=torch.bool); train_mask[:int(0.8*n)] = True\n",
        "test_mask = ~train_mask\n",
        "data = Data(x=X, edge_index=E, y=Y, train_mask=train_mask, test_mask=test_mask)\n",
        "\n",
        "model = GCN(X.size(1), 16, 3, 2)\n",
        "train(model, data, F.cross_entropy)\n",
        "test(model, data)"
      ],
      "metadata": {
        "id": "LutqgXa7q5xM"
      },
      "execution_count": null,
      "outputs": []
    }
  ]
}